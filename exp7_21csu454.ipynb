{
  "nbformat": 4,
  "nbformat_minor": 0,
  "metadata": {
    "colab": {
      "provenance": [],
      "include_colab_link": true
    },
    "kernelspec": {
      "name": "python3",
      "display_name": "Python 3"
    },
    "language_info": {
      "name": "python"
    }
  },
  "cells": [
    {
      "cell_type": "markdown",
      "metadata": {
        "id": "view-in-github",
        "colab_type": "text"
      },
      "source": [
        "<a href=\"https://colab.research.google.com/github/rishabhsingroha/RL/blob/main/exp7_21csu454.ipynb\" target=\"_parent\"><img src=\"https://colab.research.google.com/assets/colab-badge.svg\" alt=\"Open In Colab\"/></a>"
      ]
    },
    {
      "cell_type": "code",
      "execution_count": null,
      "metadata": {
        "id": "uFdu0PwQj22w"
      },
      "outputs": [],
      "source": [
        "import numpy as np\n",
        "\n",
        "# Define the MDP parameters for a 2x2 grid world with 4 actions (up, down, left, right)\n",
        "num_states = 4\n",
        "num_actions = 4\n",
        "\n",
        "# Transition probabilities: transition_probs[state, action, next_state]\n",
        "# Example: If you move up (action 0) from state 0 (bottom-left), you have a 0.8 chance of staying in the same state (state 0) and a 0.2 chance of moving to state 1 (top-left).\n",
        "transition_probs = np.array([\n",
        "    [[0.8, 0.1, 0.0, 0.1], [0.1, 0.8, 0.1, 0.0], [0.0, 0.1, 0.8, 0.1], [0.1, 0.0, 0.1, 0.8]],\n",
        "    [[0.8, 0.1, 0.0, 0.1], [0.1, 0.8, 0.1, 0.0], [0.0, 0.1, 0.8, 0.1], [0.1, 0.0, 0.1, 0.8]],\n",
        "    [[0.8, 0.1, 0.0, 0.1], [0.1, 0.8, 0.1, 0.0], [0.0, 0.1, 0.8, 0.1], [0.1, 0.0, 0.1, 0.8]],\n",
        "    [[0.8, 0.1, 0.0, 0.1], [0.1, 0.8, 0.1, 0.0], [0.0, 0.1, 0.8, 0.1], [0.1, 0.0, 0.1, 0.8]]\n",
        "])\n",
        "\n",
        "# Rewards: rewards[state, action, next_state]\n",
        "# Example: If you move up (action 0) from state 0 to state 0, you receive a reward of -1.\n",
        "rewards = np.array([\n",
        "    [[-1, -1, -1, -1], [-1, -1, -1, -1], [-1, -1, -1, -1], [-1, -1, -1, -1]],\n",
        "    [[-1, -1, -1, -1], [-1, -1, -1, -1], [-1, -1, -1, -1], [-1, -1, -1, -1]],\n",
        "    [[-1, -1, -1, -1], [-1, -1, -1, -1], [-1, -1, -1, -1], [-1, -1, -1, -1]],\n",
        "    [[-1, -1, -1, -1], [-1, -1, -1, -1], [-1, -1, -1, -1], [-1, -1, -1, -1]]\n",
        "])\n",
        "\n",
        "# Initialize a random policy\n",
        "policy = np.random.randint(0, num_actions, size=num_states)\n",
        "\n",
        "# Set the discount factor (gamma)\n",
        "gamma = 0.9\n",
        "\n",
        "# Policy Iteration Algorithm\n",
        "def policy_iteration(policy, num_states, num_actions, transition_probs, rewards, gamma, max_iterations=1000):\n",
        "    for _ in range(max_iterations):\n",
        "        # Policy Evaluation Step\n",
        "        while True:\n",
        "            delta = 0\n",
        "            values = np.zeros(num_states)  # Initialize state values to zeros\n",
        "            for state in range(num_states):\n",
        "                v = 0\n",
        "                for action in range(num_actions):\n",
        "                    for next_state in range(num_states):\n",
        "                        v += transition_probs[state, action, next_state] * (rewards[state, action, next_state] + gamma * values[next_state])\n",
        "                delta = max(delta, abs(v - values[state]))\n",
        "                values[state] = v\n",
        "            if delta < 1e-6:\n",
        "                break\n",
        "\n",
        "        # Policy Improvement Step\n",
        "        policy_stable = True\n",
        "        for state in range(num_states):\n",
        "            old_action = policy[state]\n",
        "            action_values = np.zeros(num_actions)\n",
        "            for action in range(num_actions):\n",
        "                for next_state in range(num_states):\n",
        "                    action_values[action] += transition_probs[state, action, next_state] * (rewards[state, action, next_state] + gamma * values[next_state])\n",
        "            policy[state] = np.argmax(action_values)\n",
        "            if old_action != policy[state]:\n",
        "                policy_stable = False\n",
        "        if policy_stable:\n",
        "            break\n",
        "\n",
        "    return policy\n",
        "\n",
        "# Call the policy iteration function\n",
        "optimal_policy = policy_iteration(policy, num_states, num_actions, transition_probs, rewards, gamma)\n",
        "\n",
        "# Print the optimal policy\n",
        "print(\"Optimal Policy:\", optimal_policy)\n"
      ]
    }
  ]
}